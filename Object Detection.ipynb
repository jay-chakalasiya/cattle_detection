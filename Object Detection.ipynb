{
 "cells": [
  {
   "cell_type": "code",
   "execution_count": 3,
   "id": "0ca47438",
   "metadata": {},
   "outputs": [],
   "source": [
    "import os\n",
    "from detection_models import CattleDetection\n",
    "from config import IMAGE_PATH\n",
    "from utils import format_image_id"
   ]
  },
  {
   "cell_type": "code",
   "execution_count": 4,
   "id": "7e240dfc",
   "metadata": {},
   "outputs": [],
   "source": [
    "CD = CattleDetection()"
   ]
  },
  {
   "cell_type": "code",
   "execution_count": null,
   "id": "61d45425",
   "metadata": {
    "scrolled": false
   },
   "outputs": [],
   "source": [
    "CD.infer(os.path.join(IMAGE_PATH, format_image_id(4)+'.jpg'))"
   ]
  },
  {
   "cell_type": "code",
   "execution_count": 5,
   "id": "1da4dfdd",
   "metadata": {},
   "outputs": [
    {
     "data": {
      "text/plain": [
       "array([[206.7101  ,  57.786373, 344.55225 , 171.37476 ]], dtype=float32)"
      ]
     },
     "execution_count": 5,
     "metadata": {},
     "output_type": "execute_result"
    }
   ],
   "source": [
    "CD.infer_from_binaries(3)"
   ]
  },
  {
   "cell_type": "code",
   "execution_count": null,
   "id": "649f34d7",
   "metadata": {},
   "outputs": [],
   "source": []
  }
 ],
 "metadata": {
  "kernelspec": {
   "display_name": "Python 3 (ipykernel)",
   "language": "python",
   "name": "python3"
  },
  "language_info": {
   "codemirror_mode": {
    "name": "ipython",
    "version": 3
   },
   "file_extension": ".py",
   "mimetype": "text/x-python",
   "name": "python",
   "nbconvert_exporter": "python",
   "pygments_lexer": "ipython3",
   "version": "3.8.8"
  }
 },
 "nbformat": 4,
 "nbformat_minor": 5
}
